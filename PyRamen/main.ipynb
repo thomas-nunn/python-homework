{
 "cells": [
  {
   "cell_type": "code",
   "execution_count": 10,
   "id": "4b5a2d61-9dde-40ec-be35-91bde6093946",
   "metadata": {},
   "outputs": [
    {
     "name": "stdout",
     "output_type": "stream",
     "text": [
      "spicy miso ramen: {'01-count': 9238, '02-revenue': 110856.0, '03-cogs': 46190.0, '04-profit': 64666.0}\n",
      "tori paitan ramen: {'01-count': 9156, '02-revenue': 119028.0, '03-cogs': 54936.0, '04-profit': 64092.0}\n",
      "truffle butter ramen: {'01-count': 8982, '02-revenue': 125748.0, '03-cogs': 62874.0, '04-profit': 62874.0}\n",
      "tonkotsu ramen: {'01-count': 9288, '02-revenue': 120744.0, '03-cogs': 55728.0, '04-profit': 65016.0}\n",
      "vegetarian spicy miso: {'01-count': 9216, '02-revenue': 110592.0, '03-cogs': 46080.0, '04-profit': 64512.0}\n",
      "shio ramen: {'01-count': 9180, '02-revenue': 100980.0, '03-cogs': 45900.0, '04-profit': 55080.0}\n",
      "miso crab ramen: {'01-count': 8890, '02-revenue': 106680.0, '03-cogs': 53340.0, '04-profit': 53340.0}\n",
      "nagomi shoyu: {'01-count': 9132, '02-revenue': 100452.0, '03-cogs': 45660.0, '04-profit': 54792.0}\n",
      "soft-shell miso crab ramen: {'01-count': 9130, '02-revenue': 127820.0, '03-cogs': 63910.0, '04-profit': 63910.0}\n",
      "burnt garlic tonkotsu ramen: {'01-count': 9070, '02-revenue': 126980.0, '03-cogs': 54420.0, '04-profit': 72560.0}\n",
      "vegetarian curry + king trumpet mushroom ramen: {'01-count': 8824, '02-revenue': 114712.0, '03-cogs': 61768.0, '04-profit': 52944.0}\n"
     ]
    }
   ],
   "source": [
    "import csv\n",
    "\n",
    "# declare variables\n",
    "menu = []\n",
    "report = {}\n",
    "\n",
    "# open file and loop through lines\n",
    "with open('menu_data.csv', newline='') as menuCsvFile:\n",
    "    \n",
    "    csvReader = csv.reader(menuCsvFile, delimiter=',')\n",
    "    next(csvReader)\n",
    "    \n",
    "    for line in csvReader:\n",
    "        menu.append(line)   \n",
    "    \n",
    "with open('sales_data.csv', newline='') as salesCsvFile:\n",
    "    \n",
    "    csvReader = csv.reader(salesCsvFile, delimiter=',')\n",
    "    next(csvReader)\n",
    "    \n",
    "    for line in csvReader:\n",
    "        sales_item = line[4]\n",
    "        quantity = int(line[3])\n",
    "        \n",
    "        if sales_item not in report:\n",
    "            report[sales_item] = {\"01-count\": 0,\"02-revenue\": 0,\"03-cogs\": 0,\"04-profit\": 0,}\n",
    "            \n",
    "        for menu_item in menu:\n",
    "            item = menu_item[0]\n",
    "            price = float(menu_item[3])\n",
    "            cost = float(menu_item[4])\n",
    "            profit = price - cost\n",
    "\n",
    "            if sales_item == item:\n",
    "                report[sales_item][\"01-count\"] += quantity\n",
    "                report[sales_item][\"02-revenue\"] += price * quantity\n",
    "                report[sales_item][\"03-cogs\"] += cost * quantity\n",
    "                report[sales_item][\"04-profit\"] += profit * quantity\n",
    "                #print(\"Match Found!\")\n",
    "            #else:\n",
    "                #print(f'{sales_item} does not equal {item}! NO MATCH!')\n",
    "\n",
    "for key,value in report.items():\n",
    "    print(f'{key}: {value}')"
   ]
  },
  {
   "cell_type": "markdown",
   "id": "9df39172-f73c-4545-a1f5-1168f6c77697",
   "metadata": {},
   "source": [
    "\n",
    "\n",
    "\n"
   ]
  }
 ],
 "metadata": {
  "kernelspec": {
   "display_name": "Python 3",
   "language": "python",
   "name": "python3"
  },
  "language_info": {
   "codemirror_mode": {
    "name": "ipython",
    "version": 3
   },
   "file_extension": ".py",
   "mimetype": "text/x-python",
   "name": "python",
   "nbconvert_exporter": "python",
   "pygments_lexer": "ipython3",
   "version": "3.8.8"
  }
 },
 "nbformat": 4,
 "nbformat_minor": 5
}
