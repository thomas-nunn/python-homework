{
 "cells": [
  {
   "cell_type": "code",
   "execution_count": 13,
   "id": "4b5a2d61-9dde-40ec-be35-91bde6093946",
   "metadata": {},
   "outputs": [],
   "source": [
    "import csv\n",
    "\n",
    "# declare variables\n",
    "menu = []\n",
    "report = {}\n",
    "\n",
    "# open file and loop through lines\n",
    "with open('menu_data.csv', newline='') as menuCsvFile:\n",
    "    \n",
    "    csvReader = csv.reader(menuCsvFile, delimiter=',')\n",
    "    next(csvReader)\n",
    "    \n",
    "    for line in csvReader:\n",
    "        menu.append(line)   \n",
    "    \n",
    "with open('sales_data.csv', newline='') as salesCsvFile:\n",
    "    \n",
    "    csvReader = csv.reader(salesCsvFile, delimiter=',')\n",
    "    next(csvReader)\n",
    "    \n",
    "    for line in csvReader:\n",
    "        sales_item = line[4]\n",
    "        quantity = int(line[3])\n",
    "        \n",
    "        if sales_item not in report:\n",
    "            report[sales_item] = {\"01-count\": 0,\"02-revenue\": 0,\"03-cogs\": 0,\"04-profit\": 0,}\n",
    "            \n",
    "        for menu_item in menu:\n",
    "            item = menu_item[0]\n",
    "            price = float(menu_item[3])\n",
    "            cost = float(menu_item[4])\n",
    "            profit = price - cost\n",
    "\n",
    "            if sales_item == item:\n",
    "                report[sales_item][\"01-count\"] += quantity\n",
    "                report[sales_item][\"02-revenue\"] += price * quantity\n",
    "                report[sales_item][\"03-cogs\"] += cost * quantity\n",
    "                report[sales_item][\"04-profit\"] += profit * quantity\n",
    "                #print(\"Match Found!\")\n",
    "            #else:\n",
    "                #print(f'{sales_item} does not equal {item}! NO MATCH!')\n",
    "\n",
    "outFile = open(\"results.txt\", \"w\")\n",
    "for key,value in report.items():\n",
    "    outFile.write(f'{key}: {value}\\n')\n",
    "outFile.close()                "
   ]
  },
  {
   "cell_type": "markdown",
   "id": "9df39172-f73c-4545-a1f5-1168f6c77697",
   "metadata": {},
   "source": [
    "\n",
    "\n",
    "\n"
   ]
  }
 ],
 "metadata": {
  "kernelspec": {
   "display_name": "Python 3",
   "language": "python",
   "name": "python3"
  },
  "language_info": {
   "codemirror_mode": {
    "name": "ipython",
    "version": 3
   },
   "file_extension": ".py",
   "mimetype": "text/x-python",
   "name": "python",
   "nbconvert_exporter": "python",
   "pygments_lexer": "ipython3",
   "version": "3.8.8"
  }
 },
 "nbformat": 4,
 "nbformat_minor": 5
}
