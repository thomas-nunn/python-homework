{
 "cells": [
  {
   "cell_type": "code",
   "execution_count": null,
   "id": "4b5a2d61-9dde-40ec-be35-91bde6093946",
   "metadata": {},
   "outputs": [],
   "source": [
    "import csv\n",
    "\n",
    "# declare variables\n",
    "menu = []\n",
    "report = {}\n",
    "\n",
    "# open file and loop through lines\n",
    "with open('menu_data.csv', newline='') as menuCsvFile:\n",
    "    \n",
    "    csvReader = csv.reader(menuCsvFile, delimiter=',')\n",
    "    next(csvReader)\n",
    "    \n",
    "    for line in csvReader:\n",
    "       menu.append(line)\n",
    "\n",
    "with open('sales_data.csv', newline='') as salesCsvFile:\n",
    "    \n",
    "    csvReader = csv.reader(salesCsvFile, delimiter=',')\n",
    "    next(csvReader)\n",
    "    \n",
    "    for line in csvReader:\n",
    "        menuItem = line[4]\n",
    "        qty = line[3]\n",
    "        \n",
    "        if menuItem in report"
   ]
  }
 ],
 "metadata": {
  "kernelspec": {
   "display_name": "Python 3",
   "language": "python",
   "name": "python3"
  },
  "language_info": {
   "codemirror_mode": {
    "name": "ipython",
    "version": 3
   },
   "file_extension": ".py",
   "mimetype": "text/x-python",
   "name": "python",
   "nbconvert_exporter": "python",
   "pygments_lexer": "ipython3",
   "version": "3.8.8"
  }
 },
 "nbformat": 4,
 "nbformat_minor": 5
}
