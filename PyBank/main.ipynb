{
 "cells": [
  {
   "cell_type": "code",
   "execution_count": 5,
   "id": "3cef6f00-1816-4328-bd20-dbb24d294546",
   "metadata": {},
   "outputs": [
    {
     "name": "stdout",
     "output_type": "stream",
     "text": [
      "total number of months: 86\n"
     ]
    }
   ],
   "source": [
    "with open(\"budget_data.csv\") as budgetFile:\n",
    "    months = 0\n",
    "    for line in budgetFile:\n",
    "        if line.startswith(\"Date,\") == False:\n",
    "            months += 1\n",
    "    print(f'total number of months: {months}')"
   ]
  },
  {
   "cell_type": "code",
   "execution_count": 38,
   "id": "90425542-7cae-444b-8cc1-c839b93f8db7",
   "metadata": {},
   "outputs": [
    {
     "name": "stdout",
     "output_type": "stream",
     "text": [
      "Financial Analysis\n",
      "----------------------------\n",
      "Total Months: 86\n",
      "Total: $38382578\n",
      "Average Change: $-2315.12\n",
      "Greatest Increase in Profits: Feb-2012 ($1926159)\n",
      "Greatest Decrease in Profits: Sep-2013 ($-2196167)\n",
      "\n"
     ]
    }
   ],
   "source": [
    "import csv\n",
    "\n",
    "#declare variables\n",
    "months = 0\n",
    "total = 0\n",
    "prevPL = 0\n",
    "diffs = []\n",
    "maxInc = 0\n",
    "maxIncMonth = \"\"\n",
    "maxDec = 0\n",
    "MaxDecMonth = \"\"\n",
    "\n",
    "def getChange(a,b):\n",
    "    change = b - a\n",
    "    return change\n",
    "    \n",
    "with open('budget_data.csv', newline='') as csvFile:\n",
    "    \n",
    "    csvReader = csv.reader(csvFile, delimiter=',')\n",
    "    next(csvReader)\n",
    "    \n",
    "    for line in csvReader:\n",
    "        \n",
    "        pl = int(line[1])\n",
    "        months += 1\n",
    "        total += pl\n",
    "        \n",
    "        if csvReader.line_num > 2:\n",
    "            \n",
    "            diff = pl - prevPL\n",
    "            diffs.append(diff)\n",
    "            \n",
    "            if diff > maxInc:\n",
    "                maxInc = diff\n",
    "                maxIncMonth = line[0]\n",
    "            if diff < maxDec:\n",
    "                maxDec = diff\n",
    "                maxDecMonth = line[0]\n",
    "        prevPL = pl\n",
    "\n",
    "avgChange = round(sum(diffs) / len(diffs),2)        \n",
    "    \n",
    "resultString = \"Financial Analysis\\n----------------------------\\n\"\\\n",
    "    \"Total Months: {0}\\n\"\\\n",
    "    \"Total: ${1}\\n\"\\\n",
    "    \"Average Change: ${2}\\n\"\\\n",
    "    \"Greatest Increase in Profits: {3} (${4})\\n\"\\\n",
    "    \"Greatest Decrease in Profits: {5} (${6})\\n\"\\\n",
    "    .format(months,total,avgChange,maxIncMonth,maxInc,maxDecMonth,maxDec)\n",
    "       \n",
    "print(resultString)    \n",
    "    \n",
    "outFile = open(\"results.txt\", \"w\")\n",
    "outFile.write(resultString)\n",
    "outFile.close()"
   ]
  },
  {
   "cell_type": "code",
   "execution_count": null,
   "id": "ed2f1a52-84e2-4f9d-92a3-e6175e7a20ec",
   "metadata": {},
   "outputs": [],
   "source": []
  }
 ],
 "metadata": {
  "kernelspec": {
   "display_name": "Python 3",
   "language": "python",
   "name": "python3"
  },
  "language_info": {
   "codemirror_mode": {
    "name": "ipython",
    "version": 3
   },
   "file_extension": ".py",
   "mimetype": "text/x-python",
   "name": "python",
   "nbconvert_exporter": "python",
   "pygments_lexer": "ipython3",
   "version": "3.8.8"
  }
 },
 "nbformat": 4,
 "nbformat_minor": 5
}
